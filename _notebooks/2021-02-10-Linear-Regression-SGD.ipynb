{
 "cells": [
  {
   "cell_type": "markdown",
   "metadata": {},
   "source": [
    "# Linear Regression with SGD\n",
    "> Linear Regression from scratch with SGD\n",
    "\n",
    "- toc: true \n",
    "- badges: true\n",
    "- comments: true\n",
    "- categories: [Machine Learning]"
   ]
  },
  {
   "cell_type": "markdown",
   "metadata": {},
   "source": [
    "In case we cannot solve models analytically, we still train models effectively in practice. The algorithm optimize parameters in the direction that incrementally lowvers the loss function is called *gradient descent*.\n",
    "\n",
    "We will often settle for sampling a random minibatch of examples every time we need to compute the update, a variant called *minibatch stochastic gradient descent*.\n",
    "\n",
    "In each interation, we first randomly sample a minibatch $\\beta$ consisting of a fixed number of training examples. We then compute the gradient of the average loss on the minibatch with regard to the model parameters. Finally, we multiply the gradient by a positive value $\\eta$ and subtract the result from the current parameters values.\n",
    "\n",
    "$$ \\mathbf{w} \\leftarrow \\mathbf{w} - \\frac{\\eta}{|\\mathcal{B}|} \\sum_{i \\in \\mathcal{B}} \\partial_{\\mathbf{w}} l^{(i)}\\mathbf{w}$$\n",
    "\n"
   ]
  },
  {
   "cell_type": "markdown",
   "metadata": {},
   "source": [
    "# Generating the Dataset"
   ]
  },
  {
   "cell_type": "code",
   "execution_count": 1,
   "metadata": {
    "scrolled": true
   },
   "outputs": [],
   "source": [
    "import tensorflow as tf\n",
    "import random\n",
    "import matplotlib.pyplot as plt\n",
    "%matplotlib inline"
   ]
  },
  {
   "cell_type": "code",
   "execution_count": 2,
   "metadata": {},
   "outputs": [],
   "source": [
    "def synthetic_data(w, b, num_examples):  \n",
    "    \"\"\"Generate y = Xw + b + noise.\"\"\"\n",
    "    X = tf.zeros((num_examples, w.shape[0]))\n",
    "    X += tf.random.normal(shape=X.shape)\n",
    "    y = tf.matmul(X, tf.reshape(w, (-1, 1))) + b\n",
    "    y += tf.random.normal(shape=y.shape, stddev=0.01)\n",
    "    y = tf.reshape(y, (-1, 1))\n",
    "    return X, y\n",
    "\n",
    "true_w = tf.constant([2, -3.4])\n",
    "true_b = 4.2\n",
    "X, y = synthetic_data(true_w, true_b, 1000)"
   ]
  },
  {
   "cell_type": "code",
   "execution_count": 3,
   "metadata": {
    "scrolled": true
   },
   "outputs": [
    {
     "data": {
      "text/plain": [
       "<matplotlib.collections.PathCollection at 0x7f76a0271d30>"
      ]
     },
     "execution_count": 3,
     "metadata": {},
     "output_type": "execute_result"
    },
    {
     "data": {
      "image/png": "[encoded data removed]",
      "text/plain": [
       "<Figure size 432x288 with 1 Axes>"
      ]
     },
     "metadata": {
      "needs_background": "light"
     },
     "output_type": "display_data"
    }
   ],
   "source": [
    "plt.scatter(x=X[:,0].numpy(),y=y[:,0].numpy())"
   ]
  },
  {
   "cell_type": "markdown",
   "metadata": {},
   "source": [
    "# Reading the Dataset"
   ]
  },
  {
   "cell_type": "code",
   "execution_count": 4,
   "metadata": {},
   "outputs": [],
   "source": [
    "def data_iter(batch_size, features, labels):\n",
    "    num_examples = len(features)\n",
    "    indices = list(range(num_examples))\n",
    "    # The examples are read at random, in no particular order\n",
    "    random.shuffle(indices)\n",
    "    for i in range(0, num_examples, batch_size):\n",
    "        j = tf.constant(indices[i: min(i + batch_size, num_examples)])\n",
    "        yield tf.gather(features, j), tf.gather(labels, j)"
   ]
  },
  {
   "cell_type": "markdown",
   "metadata": {},
   "source": [
    "# Initalizing the Parameters"
   ]
  },
  {
   "cell_type": "code",
   "execution_count": 5,
   "metadata": {},
   "outputs": [],
   "source": [
    "w = tf.Variable(tf.random.normal(shape=(3,1), mean=0, stddev=0.01),trainable=True)"
   ]
  },
  {
   "cell_type": "markdown",
   "metadata": {},
   "source": [
    "# Defining the Model"
   ]
  },
  {
   "cell_type": "code",
   "execution_count": 6,
   "metadata": {},
   "outputs": [],
   "source": [
    "def linreg(X,w):\n",
    "    return tf.matmul(X,w)"
   ]
  },
  {
   "cell_type": "markdown",
   "metadata": {},
   "source": [
    "# Defining the Loss Function"
   ]
  },
  {
   "cell_type": "code",
   "execution_count": 7,
   "metadata": {},
   "outputs": [],
   "source": [
    "def squared_loss(y_hat,y):\n",
    "    return (y_hat-y)**2/2"
   ]
  },
  {
   "cell_type": "markdown",
   "metadata": {},
   "source": [
    "# Defining the Optimizatioin Algorithm"
   ]
  },
  {
   "cell_type": "code",
   "execution_count": 8,
   "metadata": {},
   "outputs": [],
   "source": [
    "def sgd(w, grad, lr, batch_sizze):\n",
    "    w.assign_sub(lr*grad/batch_sizze)"
   ]
  },
  {
   "cell_type": "markdown",
   "metadata": {},
   "source": [
    "# Training"
   ]
  },
  {
   "cell_type": "code",
   "execution_count": 9,
   "metadata": {},
   "outputs": [],
   "source": [
    "X=tf.concat([X,tf.ones(y.shape)],1)"
   ]
  },
  {
   "cell_type": "code",
   "execution_count": 15,
   "metadata": {},
   "outputs": [
    {
     "name": "stdout",
     "output_type": "stream",
     "text": [
      "epoch 1, loss 0.240866\n",
      "epoch 2, loss 0.212633\n",
      "epoch 3, loss 0.187720\n",
      "epoch 4, loss 0.165735\n",
      "epoch 5, loss 0.146335\n",
      "epoch 6, loss 0.129210\n",
      "epoch 7, loss 0.114100\n",
      "epoch 8, loss 0.100762\n",
      "epoch 9, loss 0.088989\n",
      "epoch 10, loss 0.078597\n",
      "epoch 11, loss 0.069422\n",
      "epoch 12, loss 0.061322\n",
      "epoch 13, loss 0.054172\n",
      "epoch 14, loss 0.047859\n",
      "epoch 15, loss 0.042285\n",
      "epoch 16, loss 0.037362\n",
      "epoch 17, loss 0.033016\n",
      "epoch 18, loss 0.029177\n",
      "epoch 19, loss 0.025787\n",
      "epoch 20, loss 0.022793\n",
      "epoch 21, loss 0.020148\n",
      "epoch 22, loss 0.017812\n",
      "epoch 23, loss 0.015749\n",
      "epoch 24, loss 0.013926\n",
      "epoch 25, loss 0.012315\n",
      "epoch 26, loss 0.010892\n",
      "epoch 27, loss 0.009635\n",
      "epoch 28, loss 0.008524\n",
      "epoch 29, loss 0.007542\n",
      "epoch 30, loss 0.006674\n",
      "epoch 31, loss 0.005908\n",
      "epoch 32, loss 0.005230\n",
      "epoch 33, loss 0.004631\n",
      "epoch 34, loss 0.004102\n",
      "epoch 35, loss 0.003634\n",
      "epoch 36, loss 0.003220\n",
      "epoch 37, loss 0.002854\n",
      "epoch 38, loss 0.002531\n",
      "epoch 39, loss 0.002245\n",
      "epoch 40, loss 0.001992\n",
      "epoch 41, loss 0.001768\n",
      "epoch 42, loss 0.001571\n",
      "epoch 43, loss 0.001396\n",
      "epoch 44, loss 0.001241\n",
      "epoch 45, loss 0.001104\n",
      "epoch 46, loss 0.000983\n",
      "epoch 47, loss 0.000876\n",
      "epoch 48, loss 0.000782\n",
      "epoch 49, loss 0.000698\n",
      "epoch 50, loss 0.000624\n",
      "epoch 51, loss 0.000558\n",
      "epoch 52, loss 0.000500\n",
      "epoch 53, loss 0.000449\n",
      "epoch 54, loss 0.000403\n",
      "epoch 55, loss 0.000363\n",
      "epoch 56, loss 0.000327\n",
      "epoch 57, loss 0.000296\n",
      "epoch 58, loss 0.000268\n",
      "epoch 59, loss 0.000243\n",
      "epoch 60, loss 0.000221\n",
      "epoch 61, loss 0.000202\n",
      "epoch 62, loss 0.000185\n",
      "epoch 63, loss 0.000170\n",
      "epoch 64, loss 0.000156\n",
      "epoch 65, loss 0.000144\n",
      "epoch 66, loss 0.000134\n",
      "epoch 67, loss 0.000125\n",
      "epoch 68, loss 0.000116\n",
      "epoch 69, loss 0.000109\n",
      "epoch 70, loss 0.000103\n",
      "epoch 71, loss 0.000097\n",
      "epoch 72, loss 0.000092\n",
      "epoch 73, loss 0.000087\n",
      "epoch 74, loss 0.000083\n",
      "epoch 75, loss 0.000080\n",
      "epoch 76, loss 0.000076\n",
      "epoch 77, loss 0.000074\n",
      "epoch 78, loss 0.000071\n",
      "epoch 79, loss 0.000069\n",
      "epoch 80, loss 0.000067\n",
      "epoch 81, loss 0.000065\n",
      "epoch 82, loss 0.000064\n",
      "epoch 83, loss 0.000063\n",
      "epoch 84, loss 0.000061\n",
      "epoch 85, loss 0.000060\n",
      "epoch 86, loss 0.000059\n",
      "epoch 87, loss 0.000058\n",
      "epoch 88, loss 0.000058\n",
      "epoch 89, loss 0.000057\n",
      "epoch 90, loss 0.000057\n",
      "epoch 91, loss 0.000056\n",
      "epoch 92, loss 0.000056\n",
      "epoch 93, loss 0.000055\n",
      "epoch 94, loss 0.000055\n",
      "epoch 95, loss 0.000054\n",
      "epoch 96, loss 0.000054\n",
      "epoch 97, loss 0.000054\n",
      "epoch 98, loss 0.000054\n",
      "epoch 99, loss 0.000054\n",
      "epoch 100, loss 0.000053\n"
     ]
    }
   ],
   "source": [
    "lr = 0.03\n",
    "num_epochs = 100\n",
    "net = linreg\n",
    "loss = squared_loss\n",
    "batch_size = 500\n",
    "for epoch in range(num_epochs):\n",
    "    for X_, y_ in data_iter(batch_size, X, y):\n",
    "        with tf.GradientTape() as g:\n",
    "            l = loss(net(X_, w), y_)  # Minibatch loss in `X` and `y`\n",
    "        # Compute gradient on l with respect to [`w`, `b`]\n",
    "        dw = g.gradient(l, w)\n",
    "        # Update parameters using their gradient\n",
    "        sgd(w, dw, lr, batch_size)\n",
    "    train_l = loss(net(X, w), y)\n",
    "    print(f'epoch {epoch + 1}, loss {float(tf.reduce_mean(train_l)):f}')"
   ]
  },
  {
   "cell_type": "code",
   "execution_count": 16,
   "metadata": {},
   "outputs": [
    {
     "data": {
      "text/plain": [
       "<tf.Variable 'Variable:0' shape=(3, 1) dtype=float32, numpy=\n",
       "array([[ 1.9983404],\n",
       "       [-3.3994982],\n",
       "       [ 4.1987143]], dtype=float32)>"
      ]
     },
     "execution_count": 16,
     "metadata": {},
     "output_type": "execute_result"
    }
   ],
   "source": [
    "w"
   ]
  },
  {
   "cell_type": "code",
   "execution_count": null,
   "metadata": {},
   "outputs": [],
   "source": []
  }
 ],
 "metadata": {
  "kernelspec": {
   "display_name": "Python 3",
   "language": "python",
   "name": "python3"
  },
  "language_info": {
   "codemirror_mode": {
    "name": "ipython",
    "version": 3
   },
   "file_extension": ".py",
   "mimetype": "text/x-python",
   "name": "python",
   "nbconvert_exporter": "python",
   "pygments_lexer": "ipython3",
   "version": "3.8.5"
  },
  "toc": {
   "base_numbering": 1,
   "nav_menu": {},
   "number_sections": true,
   "sideBar": true,
   "skip_h1_title": false,
   "title_cell": "Table of Contents",
   "title_sidebar": "Contents",
   "toc_cell": false,
   "toc_position": {},
   "toc_section_display": true,
   "toc_window_display": false
  }
 },
 "nbformat": 4,
 "nbformat_minor": 4
}
